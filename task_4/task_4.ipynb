{
 "cells": [
  {
   "cell_type": "code",
   "execution_count": 2,
   "id": "c420a990-3e94-4cee-8cba-5517c42baf33",
   "metadata": {},
   "outputs": [],
   "source": [
    "# Загружаем активные молекулы (pIC50 ≥ 6.0)\n",
    "import pandas as pd\n",
    "import numpy as np\n",
    "active_df = pd.read_csv(\"df_cleaned_rdkit_morgan.csv\")\n",
    "\n",
    "# Удалим нули и отрицательные значения, чтобы избежать log(0) или log(отрицат.)\n",
    "active_df = active_df[active_df['IC50_nM'] > 0].copy()\n",
    "\n",
    "# Переводим IC50 из нМ в моль/л, затем берём -log10\n",
    "active_df['pIC50'] = -np.log10(active_df['IC50_nM'] * 1e-9)\n",
    "\n",
    "actives = active_df[active_df[\"pIC50\"] >= 6][\"canonical_smiles\"].drop_duplicates()\n",
    "actives.to_csv(\"fine_tune_set.smi\", index=False, header=False)\n"
   ]
  },
  {
   "cell_type": "code",
   "execution_count": 8,
   "id": "0efe4a7a-6b6f-4976-a169-c503d8cb38f6",
   "metadata": {},
   "outputs": [
    {
     "ename": "FileNotFoundError",
     "evalue": "[WinError 2] Не удается найти указанный файл: 'REINVENT4'",
     "output_type": "error",
     "traceback": [
      "\u001b[31m---------------------------------------------------------------------------\u001b[39m",
      "\u001b[31mFileNotFoundError\u001b[39m                         Traceback (most recent call last)",
      "\u001b[36mCell\u001b[39m\u001b[36m \u001b[39m\u001b[32mIn[8]\u001b[39m\u001b[32m, line 2\u001b[39m\n\u001b[32m      1\u001b[39m \u001b[38;5;28;01mimport\u001b[39;00m\u001b[38;5;250m \u001b[39m\u001b[34;01mos\u001b[39;00m\n\u001b[32m----> \u001b[39m\u001b[32m2\u001b[39m \u001b[43mos\u001b[49m\u001b[43m.\u001b[49m\u001b[43mchdir\u001b[49m\u001b[43m(\u001b[49m\u001b[33;43m\"\u001b[39;49m\u001b[33;43mREINVENT4\u001b[39;49m\u001b[33;43m\"\u001b[39;49m\u001b[43m)\u001b[49m\n\u001b[32m      3\u001b[39m get_ipython().system(\u001b[33m'\u001b[39m\u001b[33mpython -m reinvent --config configs/my_config.toml\u001b[39m\u001b[33m'\u001b[39m)\n",
      "\u001b[31mFileNotFoundError\u001b[39m: [WinError 2] Не удается найти указанный файл: 'REINVENT4'"
     ]
    }
   ],
   "source": [
    "import os\n",
    "os.chdir(\"REINVENT4\")\n",
    "!python -m reinvent --config configs/my_config.toml"
   ]
  },
  {
   "cell_type": "code",
   "execution_count": null,
   "id": "00161f80-e630-4bc3-a40a-555ed02e1f3c",
   "metadata": {},
   "outputs": [],
   "source": [
    "!python generate.py --model reinvent_model_finetuned --num 3000 --output gen_raw.smi"
   ]
  },
  {
   "cell_type": "code",
   "execution_count": null,
   "id": "94f59420-8e9c-40cd-9718-74872666c7c8",
   "metadata": {},
   "outputs": [],
   "source": [
    "from rdkit import Chem\n",
    "from rdkit.Chem import Descriptors\n",
    "import pandas as pd\n",
    "\n",
    "def validate_smiles(smiles_list):\n",
    "    valids = []\n",
    "    for smi in smiles_list:\n",
    "        mol = Chem.MolFromSmiles(smi)\n",
    "        if mol:\n",
    "            valids.append(smi)\n",
    "    return list(set(valids))  # удалить дубликаты\n",
    "\n",
    "gen_smiles = open(\"gen_raw.smi\").read().splitlines()\n",
    "valid_smiles = validate_smiles(gen_smiles)\n",
    "pd.DataFrame({\"SMILES\": valid_smiles}).to_csv(\"gen_valid.csv\", index=False)\n"
   ]
  },
  {
   "cell_type": "code",
   "execution_count": null,
   "id": "feae46c7-19f4-4bed-a8b0-b222a157c149",
   "metadata": {},
   "outputs": [],
   "source": [
    "from joblib import load\n",
    "model = load(\"rf_model.pkl\")\n",
    "scaler = load(\"scaler.pkl\")\n",
    "\n",
    "# Фингерпринты\n",
    "from rdkit.Chem import AllChem\n",
    "import numpy as np\n",
    "\n",
    "def featurize(smiles):\n",
    "    mol = Chem.MolFromSmiles(smiles)\n",
    "    fp = AllChem.GetMorganFingerprintAsBitVect(mol, 2, nBits=1024)\n",
    "    return np.array(fp)\n",
    "\n",
    "X = np.array([featurize(s) for s in valid_smiles])\n",
    "X_scaled = scaler.transform(X)\n",
    "pred_pIC50 = model.predict(X_scaled)\n"
   ]
  },
  {
   "cell_type": "code",
   "execution_count": null,
   "id": "03e930d3-0a94-405f-8d55-37b380d61ef9",
   "metadata": {},
   "outputs": [],
   "source": [
    "from rdkit.Chem import QED, Crippen, Lipinski\n",
    "from sascorer import calculateScore\n",
    "from rdkit.Chem import Descriptors\n",
    "from rdkit.Chem import AllChem\n",
    "from toxalerts import check_toxic_alerts  # реализовать через SMARTS или BRENK\n",
    "\n",
    "rows = []\n",
    "for i, smi in enumerate(valid_smiles):\n",
    "    mol = Chem.MolFromSmiles(smi)\n",
    "    try:\n",
    "        qed = QED.qed(mol)\n",
    "        sa = calculateScore(mol)\n",
    "        tox = check_toxic_alerts(mol)  # 0 = нет токсичности\n",
    "        mw = Descriptors.MolWt(mol)\n",
    "        logp = Crippen.MolLogP(mol)\n",
    "        h_don = Lipinski.NumHDonors(mol)\n",
    "        h_acc = Lipinski.NumHAcceptors(mol)\n",
    "        violations = sum([\n",
    "            mw > 500, logp > 5, h_don > 5, h_acc > 10\n",
    "        ])\n",
    "        pred = pred_pIC50[i]\n",
    "\n",
    "        # фильтр\n",
    "        if pred > 6.0 and qed >= 0.7 and 2 < sa < 6 and tox == 0 and violations <= 1:\n",
    "            final_score = 0.4 * (pred/10) + 0.3 * qed - 0.2 * (sa/10) - 0.1 * tox\n",
    "            rows.append([smi, pred, qed, sa, tox, violations, final_score])\n",
    "    except:\n",
    "        continue\n",
    "\n",
    "df = pd.DataFrame(rows, columns=[\"SMILES\", \"pred_pIC50\", \"QED\", \"SA_Score\", \"ToxicAlert\", \"LipinskiViolations\", \"FinalScore\"])\n"
   ]
  },
  {
   "cell_type": "code",
   "execution_count": null,
   "id": "49adf8ce-ed32-404b-b56e-f06af9218723",
   "metadata": {},
   "outputs": [],
   "source": [
    "from rdkit import DataStructs\n",
    "\n",
    "fps = [AllChem.GetMorganFingerprintAsBitVect(Chem.MolFromSmiles(s), 2) for s in df[\"SMILES\"]]\n",
    "selected = []\n",
    "\n",
    "for i in range(len(fps)):\n",
    "    mol_fp = fps[i]\n",
    "    is_similar = False\n",
    "    for sel_fp in selected:\n",
    "        sim = DataStructs.TanimotoSimilarity(mol_fp, sel_fp)\n",
    "        if sim > 0.7:\n",
    "            is_similar = True\n",
    "            break\n",
    "    if not is_similar:\n",
    "        selected.append(fps[i])\n",
    "\n",
    "final_df = df.iloc[:len(selected)].sort_values(\"FinalScore\", ascending=False).head(10)\n"
   ]
  },
  {
   "cell_type": "code",
   "execution_count": null,
   "id": "978112a3-cbec-4cda-a753-f93749aa1058",
   "metadata": {},
   "outputs": [],
   "source": [
    "final_df.to_csv(\"selected_hits.csv\", index=False)\n",
    "\n",
    "from rdkit.Chem import Draw\n",
    "mols = [Chem.MolFromSmiles(smi) for smi in final_df[\"SMILES\"]]\n",
    "legends = [f\"pIC₅₀={p:.2f}\" for p in final_df[\"pred_pIC50\"]]\n",
    "Draw.MolsToGridImage(mols, molsPerRow=5, legends=legends)\n"
   ]
  },
  {
   "cell_type": "code",
   "execution_count": null,
   "id": "4e2e48da-36e9-49ee-9aa8-8001865a5fd8",
   "metadata": {},
   "outputs": [],
   "source": []
  },
  {
   "cell_type": "code",
   "execution_count": null,
   "id": "2a941ee7-4e0a-449a-94a0-0656c8717022",
   "metadata": {},
   "outputs": [],
   "source": []
  }
 ],
 "metadata": {
  "kernelspec": {
   "display_name": "Python (reinvent4)",
   "language": "python",
   "name": "reinvent4"
  },
  "language_info": {
   "codemirror_mode": {
    "name": "ipython",
    "version": 3
   },
   "file_extension": ".py",
   "mimetype": "text/x-python",
   "name": "python",
   "nbconvert_exporter": "python",
   "pygments_lexer": "ipython3",
   "version": "3.12.1"
  }
 },
 "nbformat": 4,
 "nbformat_minor": 5
}
