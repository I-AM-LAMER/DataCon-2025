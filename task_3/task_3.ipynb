{
 "cells": [
  {
   "cell_type": "code",
   "execution_count": 1,
   "id": "f9d083f5",
   "metadata": {},
   "outputs": [],
   "source": [
    "# Импорт библиотек\n",
    "import pandas as pd\n",
    "import numpy as np\n",
    "from sklearn.model_selection import train_test_split, KFold, cross_val_score\n",
    "from sklearn.preprocessing import StandardScaler\n",
    "from sklearn.metrics import mean_squared_error as root_mean_squared_error, mean_absolute_error, r2_score\n",
    "from sklearn.ensemble import RandomForestRegressor, GradientBoostingRegressor\n",
    "from sklearn.neural_network import MLPRegressor\n",
    "\n",
    "import torch\n",
    "import torch.nn as nn\n",
    "from torch.utils.data import DataLoader, TensorDataset\n",
    "import matplotlib.pyplot as plt\n",
    "import random\n",
    "\n",
    "# Установка random seed для воспроизводимости\n",
    "def set_seed(seed=42):\n",
    "    random.seed(seed)\n",
    "    np.random.seed(seed)\n",
    "    torch.manual_seed(seed)\n",
    "    if torch.cuda.is_available():\n",
    "        torch.cuda.manual_seed_all(seed)\n",
    "\n",
    "set_seed(42)"
   ]
  },
  {
   "cell_type": "code",
   "execution_count": 2,
   "id": "968e2e0e",
   "metadata": {},
   "outputs": [],
   "source": [
    "# Загрузка и подготовка данных\n",
    "df = pd.read_csv('df_cleaned_rdkit_morgan.csv')\n",
    "df_filtered = df[df['IC50_nM'] > 0].copy()  # фильтрация, чтобы избежать log(0)\n",
    "X = df_filtered.drop(columns=['canonical_smiles', 'IC50_nM'])\n",
    "y = -np.log10(df_filtered['IC50_nM'])  # pIC50\n",
    "\n",
    "# Делим на train/test\n",
    "X_train, X_test, y_train, y_test = train_test_split(\n",
    "    X, y, test_size=0.2, random_state=42)"
   ]
  },
  {
   "cell_type": "code",
   "execution_count": 3,
   "id": "3b2a5b0b",
   "metadata": {},
   "outputs": [],
   "source": [
    "# Масштабируем признаки\n",
    "scaler = StandardScaler()\n",
    "X_train_scaled = scaler.fit_transform(X_train)\n",
    "X_test_scaled = scaler.transform(X_test)"
   ]
  },
  {
   "cell_type": "code",
   "execution_count": 4,
   "id": "0920d09e",
   "metadata": {},
   "outputs": [],
   "source": [
    "# Классические модели\n",
    "rf = RandomForestRegressor(random_state=42)\n",
    "gb = GradientBoostingRegressor(random_state=42)\n",
    "mlp = MLPRegressor(hidden_layer_sizes=(128, 64), max_iter=300, random_state=42)\n",
    "\n",
    "# Обучаем классические модели\n",
    "rf.fit(X_train_scaled, y_train)\n",
    "gb.fit(X_train_scaled, y_train)\n",
    "mlp.fit(X_train_scaled, y_train)\n",
    "\n",
    "rf_pred = rf.predict(X_test_scaled)\n",
    "gb_pred = gb.predict(X_test_scaled)\n",
    "mlp_pred = mlp.predict(X_test_scaled)"
   ]
  },
  {
   "cell_type": "code",
   "execution_count": 5,
   "id": "73bf9516",
   "metadata": {},
   "outputs": [],
   "source": [
    "# CNN-модель на PyTorch\n",
    "class SimpleCNN(nn.Module):\n",
    "    def __init__(self, input_len):\n",
    "        super().__init__()\n",
    "        self.conv1 = nn.Conv1d(1, 32, kernel_size=5)\n",
    "        self.pool = nn.MaxPool1d(2)\n",
    "        self.fc1 = nn.Linear(32 * ((input_len - 5 + 1) // 2), 64)\n",
    "        self.out = nn.Linear(64, 1)\n",
    "\n",
    "    def forward(self, x):\n",
    "        x = self.pool(torch.relu(self.conv1(x)))\n",
    "        x = x.view(x.size(0), -1)\n",
    "        x = torch.relu(self.fc1(x))\n",
    "        return self.out(x)"
   ]
  },
  {
   "cell_type": "code",
   "execution_count": 6,
   "id": "6ab79c92",
   "metadata": {},
   "outputs": [],
   "source": [
    "# Подготовка данных для PyTorch\n",
    "X_train_tensor = torch.tensor(X_train_scaled, dtype=torch.float32).unsqueeze(1)\n",
    "X_test_tensor = torch.tensor(X_test_scaled, dtype=torch.float32).unsqueeze(1)\n",
    "y_train_tensor = torch.tensor(y_train.values, dtype=torch.float32).view(-1, 1)\n",
    "y_test_tensor = torch.tensor(y_test.values, dtype=torch.float32).view(-1, 1)\n",
    "\n",
    "train_dataset = TensorDataset(X_train_tensor, y_train_tensor)\n",
    "train_loader = DataLoader(train_dataset, batch_size=32, shuffle=True)\n",
    "\n",
    "model = SimpleCNN(X_train_tensor.shape[2])\n",
    "optimizer = torch.optim.Adam(model.parameters(), lr=0.001)\n",
    "loss_fn = nn.MSELoss()"
   ]
  },
  {
   "cell_type": "code",
   "execution_count": 7,
   "id": "02b8b19a",
   "metadata": {},
   "outputs": [
    {
     "name": "stdout",
     "output_type": "stream",
     "text": [
      "Epoch 1/30 - Loss: 1.8967\n",
      "Epoch 2/30 - Loss: 1.0378\n",
      "Epoch 3/30 - Loss: 0.9607\n",
      "Epoch 4/30 - Loss: 0.8741\n",
      "Epoch 5/30 - Loss: 0.8392\n",
      "Epoch 6/30 - Loss: 0.8107\n",
      "Epoch 7/30 - Loss: 0.7355\n",
      "Epoch 8/30 - Loss: 0.7228\n",
      "Epoch 9/30 - Loss: 0.6840\n",
      "Epoch 10/30 - Loss: 0.6467\n",
      "Epoch 11/30 - Loss: 0.6479\n",
      "Epoch 12/30 - Loss: 0.6137\n",
      "Epoch 13/30 - Loss: 0.5964\n",
      "Epoch 14/30 - Loss: 0.5858\n",
      "Epoch 15/30 - Loss: 0.5692\n",
      "Epoch 16/30 - Loss: 0.5473\n",
      "Epoch 17/30 - Loss: 0.5380\n",
      "Epoch 18/30 - Loss: 0.5071\n",
      "Epoch 19/30 - Loss: 0.4928\n",
      "Epoch 20/30 - Loss: 0.4831\n",
      "Epoch 21/30 - Loss: 0.4548\n",
      "Epoch 22/30 - Loss: 0.4284\n",
      "Epoch 23/30 - Loss: 0.4219\n",
      "Epoch 24/30 - Loss: 0.3907\n",
      "Epoch 25/30 - Loss: 0.3865\n",
      "Epoch 26/30 - Loss: 0.3756\n",
      "Epoch 27/30 - Loss: 0.3669\n",
      "Epoch 28/30 - Loss: 0.3548\n",
      "Epoch 29/30 - Loss: 0.3465\n",
      "Epoch 30/30 - Loss: 0.3327\n"
     ]
    }
   ],
   "source": [
    "# Обучение CNN с записью loss для графика\n",
    "epochs = 30\n",
    "loss_history = []\n",
    "\n",
    "for epoch in range(epochs):\n",
    "    model.train()\n",
    "    epoch_loss = 0\n",
    "    for xb, yb in train_loader:\n",
    "        pred = model(xb)\n",
    "        loss = loss_fn(pred, yb)\n",
    "        optimizer.zero_grad()\n",
    "        loss.backward()\n",
    "        optimizer.step()\n",
    "        epoch_loss += loss.item() * xb.size(0)\n",
    "    epoch_loss /= len(train_loader.dataset)\n",
    "    loss_history.append(epoch_loss)\n",
    "    print(f\"Epoch {epoch+1}/{epochs} - Loss: {epoch_loss:.4f}\")"
   ]
  },
  {
   "cell_type": "code",
   "execution_count": 8,
   "id": "b977e6f1",
   "metadata": {},
   "outputs": [
    {
     "data": {
      "image/png": "[encoded data removed]",
      "text/plain": [
       "<Figure size 800x500 with 1 Axes>"
      ]
     },
     "metadata": {},
     "output_type": "display_data"
    }
   ],
   "source": [
    "# Визуализация loss\n",
    "plt.figure(figsize=(8,5))\n",
    "plt.plot(range(1, epochs+1), loss_history, marker='o')\n",
    "plt.title('CNN Training Loss')\n",
    "plt.xlabel('Epoch')\n",
    "plt.ylabel('MSE Loss')\n",
    "plt.grid(True)\n",
    "plt.show()"
   ]
  },
  {
   "cell_type": "code",
   "execution_count": 9,
   "id": "c9662659",
   "metadata": {},
   "outputs": [],
   "source": [
    "# Предсказания CNN\n",
    "model.eval()\n",
    "with torch.no_grad():\n",
    "    cnn_pred = model(X_test_tensor).squeeze().numpy()"
   ]
  },
  {
   "cell_type": "code",
   "execution_count": 10,
   "id": "8a765dbb",
   "metadata": {},
   "outputs": [],
   "source": [
    "# Функция оценки моделей\n",
    "def evaluate(y_true, y_pred):\n",
    "    return {\n",
    "        'RMSE': root_mean_squared_error(y_true, y_pred),\n",
    "        'MAE': mean_absolute_error(y_true, y_pred),\n",
    "        'R2': r2_score(y_true, y_pred)\n",
    "    }"
   ]
  },
  {
   "cell_type": "code",
   "execution_count": 11,
   "id": "c2d0a5aa",
   "metadata": {},
   "outputs": [
    {
     "name": "stdout",
     "output_type": "stream",
     "text": [
      "                      RMSE       MAE        R2\n",
      "RandomForest      0.769188  0.652580  0.577185\n",
      "GradientBoosting  1.072965  0.830820  0.410201\n",
      "MLP               0.922655  0.701170  0.492826\n",
      "CNN               1.124843  0.761529  0.381684\n"
     ]
    }
   ],
   "source": [
    "# Оценка всех моделей\n",
    "results = {\n",
    "    'RandomForest': evaluate(y_test, rf_pred),\n",
    "    'GradientBoosting': evaluate(y_test, gb_pred),\n",
    "    'MLP': evaluate(y_test, mlp_pred),\n",
    "    'CNN': evaluate(y_test, cnn_pred)\n",
    "}\n",
    "\n",
    "results_df = pd.DataFrame(results).T\n",
    "print(results_df)"
   ]
  },
  {
   "cell_type": "code",
   "execution_count": 12,
   "id": "c96244c8",
   "metadata": {},
   "outputs": [
    {
     "name": "stdout",
     "output_type": "stream",
     "text": [
      "\n",
      "RandomForest 5-fold CV RMSE: 0.8692 ± 0.0406\n"
     ]
    }
   ],
   "source": [
    "# Кросс-валидация для RandomForest (оценка стабильности)\n",
    "kf = KFold(n_splits=5, shuffle=True, random_state=42)\n",
    "cv_rmse = -cross_val_score(rf, scaler.fit_transform(X), y, scoring='neg_root_mean_squared_error', cv=kf)\n",
    "print(f\"\\nRandomForest 5-fold CV RMSE: {cv_rmse.mean():.4f} ± {cv_rmse.std():.4f}\")"
   ]
  },
  {
   "cell_type": "code",
   "execution_count": 13,
   "id": "0e1e1df2-e51e-420a-8bd9-953b2ca771f0",
   "metadata": {},
   "outputs": [
    {
     "data": {
      "text/plain": [
       "['rf_model.pkl']"
      ]
     },
     "execution_count": 13,
     "metadata": {},
     "output_type": "execute_result"
    }
   ],
   "source": [
    "import joblib\n",
    "\n",
    "# Сохраняем модель в файл\n",
    "joblib.dump(rf, 'rf_model.pkl')\n"
   ]
  }
 ],
 "metadata": {
  "kernelspec": {
   "display_name": "Python 3 (ipykernel)",
   "language": "python",
   "name": "python3"
  },
  "language_info": {
   "codemirror_mode": {
    "name": "ipython",
    "version": 3
   },
   "file_extension": ".py",
   "mimetype": "text/x-python",
   "name": "python",
   "nbconvert_exporter": "python",
   "pygments_lexer": "ipython3",
   "version": "3.12.1"
  }
 },
 "nbformat": 4,
 "nbformat_minor": 5
}
