{
 "cells": [
  {
   "cell_type": "code",
   "execution_count": 2,
   "id": "2a3d2b29",
   "metadata": {},
   "outputs": [],
   "source": [
    "import sys, os\n",
    "sys.path.insert(0, '../src')\n",
    "\n",
    "import pandas as pd\n",
    "import numpy as np\n",
    "import matplotlib.pyplot as plt\n",
    "import seaborn as sns\n",
    "\n",
    "from rdkit import Chem\n",
    "from rdkit.Chem import AllChem\n"
   ]
  },
  {
   "cell_type": "markdown",
   "id": "5a0d51ac",
   "metadata": {},
   "source": [
    "## Генерация и скоринг"
   ]
  },
  {
   "cell_type": "code",
   "execution_count": 3,
   "id": "8255ef75",
   "metadata": {},
   "outputs": [
    {
     "ename": "ModuleNotFoundError",
     "evalue": "No module named 'sascorer'",
     "output_type": "error",
     "traceback": [
      "\u001b[0;31m---------------------------------------------------------------------------\u001b[0m",
      "\u001b[0;31mModuleNotFoundError\u001b[0m                       Traceback (most recent call last)",
      "Cell \u001b[0;32mIn[3], line 1\u001b[0m\n\u001b[0;32m----> 1\u001b[0m \u001b[38;5;28;01mfrom\u001b[39;00m\u001b[38;5;250m \u001b[39m\u001b[38;5;21;01mreward_function\u001b[39;00m\u001b[38;5;250m \u001b[39m\u001b[38;5;28;01mimport\u001b[39;00m score_smiles\n\u001b[1;32m      2\u001b[0m \u001b[38;5;28;01mfrom\u001b[39;00m\u001b[38;5;250m \u001b[39m\u001b[38;5;21;01mtransformers\u001b[39;00m\u001b[38;5;250m \u001b[39m\u001b[38;5;28;01mimport\u001b[39;00m AutoTokenizer, AutoModelForSeq2SeqLM\n\u001b[1;32m      4\u001b[0m MODEL \u001b[38;5;241m=\u001b[39m \u001b[38;5;124m\"\u001b[39m\u001b[38;5;124mseyonec/REINVENT-2.0-RNN-PubChemFingerprint-v2\u001b[39m\u001b[38;5;124m\"\u001b[39m\n",
      "File \u001b[0;32m~/hackaton/DataCon-2025/hakaton/notebooks/../src/reward_function.py:5\u001b[0m\n\u001b[1;32m      3\u001b[0m \u001b[38;5;28;01mfrom\u001b[39;00m\u001b[38;5;250m \u001b[39m\u001b[38;5;21;01mrdkit\u001b[39;00m\u001b[38;5;250m \u001b[39m\u001b[38;5;28;01mimport\u001b[39;00m Chem\n\u001b[1;32m      4\u001b[0m \u001b[38;5;28;01mfrom\u001b[39;00m\u001b[38;5;250m \u001b[39m\u001b[38;5;21;01mrdkit\u001b[39;00m\u001b[38;5;21;01m.\u001b[39;00m\u001b[38;5;21;01mChem\u001b[39;00m\u001b[38;5;250m \u001b[39m\u001b[38;5;28;01mimport\u001b[39;00m QED\n\u001b[0;32m----> 5\u001b[0m \u001b[38;5;28;01mfrom\u001b[39;00m\u001b[38;5;250m \u001b[39m\u001b[38;5;21;01msascorer\u001b[39;00m\u001b[38;5;250m \u001b[39m\u001b[38;5;28;01mimport\u001b[39;00m calculateScore  \n\u001b[1;32m      7\u001b[0m rf_bace1 \u001b[38;5;241m=\u001b[39m joblib\u001b[38;5;241m.\u001b[39mload(\u001b[38;5;124m\"\u001b[39m\u001b[38;5;124mmodels/rf_bace1.joblib\u001b[39m\u001b[38;5;124m\"\u001b[39m)\n\u001b[1;32m      8\u001b[0m rf_gsk3b \u001b[38;5;241m=\u001b[39m joblib\u001b[38;5;241m.\u001b[39mload(\u001b[38;5;124m\"\u001b[39m\u001b[38;5;124mmodels/rf_gsk3b.joblib\u001b[39m\u001b[38;5;124m\"\u001b[39m)\n",
      "\u001b[0;31mModuleNotFoundError\u001b[0m: No module named 'sascorer'"
     ]
    }
   ],
   "source": [
    "from reward_function import score_smiles\n",
    "from transformers import AutoTokenizer, AutoModelForSeq2SeqLM\n",
    "\n",
    "MODEL = \"seyonec/REINVENT-2.0-RNN-PubChemFingerprint-v2\"\n",
    "tokenizer = AutoTokenizer.from_pretrained(MODEL)\n",
    "model = AutoModelForSeq2SeqLM.from_pretrained(MODEL)\n",
    "\n",
    "out = []\n",
    "BATCH=64; N=256\n",
    "for _ in range(N//BATCH):\n",
    "    toks = tokenizer(['']*BATCH, return_tensors='pt', padding=True)\n",
    "    outs = model.generate(**toks, max_length=128)\n",
    "    sms = tokenizer.batch_decode(outs, skip_special_tokens=True)\n",
    "    for s in sms:\n",
    "        out.append((s, score_smiles(s)))\n",
    "\n",
    "gen_df = pd.DataFrame(out, columns=['smiles','score']).sort_values('score',ascending=False)\n",
    "gen_df.to_csv('../results/generated.csv', index=False)\n",
    "gen_df.head(10)\n"
   ]
  },
  {
   "cell_type": "code",
   "execution_count": null,
   "id": "8a01cf18",
   "metadata": {},
   "outputs": [
    {
     "name": "stdout",
     "output_type": "stream",
     "text": [
      "Collecting git+https://github.com/rdkit/sascorer.git\n",
      "  Cloning https://github.com/rdkit/sascorer.git to /tmp/pip-req-build-0wi5vy1q\n",
      "  Running command git clone --filter=blob:none --quiet https://github.com/rdkit/sascorer.git /tmp/pip-req-build-0wi5vy1q\n",
      "Username for 'https://github.com': \u001b[31mERROR: Operation cancelled by user\u001b[0m\u001b[31m\n",
      "\u001b[0m^C\n"
     ]
    }
   ],
   "source": []
  },
  {
   "cell_type": "markdown",
   "id": "6046d593",
   "metadata": {},
   "source": [
    "## Докинг топ-50"
   ]
  },
  {
   "cell_type": "code",
   "execution_count": null,
   "id": "2859cb27",
   "metadata": {},
   "outputs": [],
   "source": [
    "import subprocess\n",
    "from rdkit.Chem import AllChem\n",
    "\n",
    "top50 = gen_df.head(50)\n",
    "RECP = '../data/ache.pdbqt'\n",
    "os.makedirs('../results/docking', exist_ok=True)\n",
    "\n",
    "for i,(s,sc) in enumerate(top50.values):\n",
    "    m = Chem.MolFromSmiles(s)\n",
    "    mh = Chem.AddHs(m)\n",
    "    AllChem.EmbedMolecule(mh,AllChem.ETKDG())\n",
    "    pdb = f\"../results/docking/lig{i}.pdb\"\n",
    "    Chem.MolToPDBFile(mh,pdb)\n",
    "    pqt = pdb.replace('.pdb','.pdbqt')\n",
    "    subprocess.run(['obabel',pdb,'-O',pqt,'--partialcharge','gasteiger'])\n",
    "    outp = pqt.replace('.pdbqt','_out.pdbqt')\n",
    "    subprocess.run([\n",
    "        'vina','--receptor',RECP,'--ligand',pqt,\n",
    "        '--center_x','10','--center_y','25','--center_z','15',\n",
    "        '--size_x','20','--size_y','20','--size_z','20',\n",
    "        '--out',outp\n",
    "    ])\n",
    "print(\"Docking done\")\n"
   ]
  },
  {
   "cell_type": "code",
   "execution_count": null,
   "id": "69c6098c",
   "metadata": {},
   "outputs": [],
   "source": []
  }
 ],
 "metadata": {
  "kernelspec": {
   "display_name": "Python 3",
   "language": "python",
   "name": "python3"
  },
  "language_info": {
   "codemirror_mode": {
    "name": "ipython",
    "version": 3
   },
   "file_extension": ".py",
   "mimetype": "text/x-python",
   "name": "python",
   "nbconvert_exporter": "python",
   "pygments_lexer": "ipython3",
   "version": "3.10.12"
  }
 },
 "nbformat": 4,
 "nbformat_minor": 5
}
