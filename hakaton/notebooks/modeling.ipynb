{
 "cells": [
  {
   "cell_type": "code",
   "execution_count": 3,
   "id": "8fa9e7f3",
   "metadata": {},
   "outputs": [],
   "source": [
    "import sys\n",
    "sys.path.insert(0, '../src')\n",
    "\n",
    "import pandas as pd\n",
    "import numpy as np\n",
    "import matplotlib.pyplot as plt\n",
    "import seaborn as sns\n",
    "\n",
    "from sklearn.ensemble import RandomForestRegressor\n",
    "from sklearn.model_selection import train_test_split\n",
    "from sklearn.metrics import r2_score, mean_squared_error\n",
    "import joblib\n",
    "import os"
   ]
  },
  {
   "cell_type": "code",
   "execution_count": 11,
   "id": "dd2f6371",
   "metadata": {},
   "outputs": [],
   "source": [
    "df = pd.read_csv('../data/multitask_processed.csv', low_memory=False)\n",
    "df = df.replace([np.inf, -np.inf], np.nan)"
   ]
  },
  {
   "cell_type": "code",
   "execution_count": 12,
   "id": "c20fc052",
   "metadata": {},
   "outputs": [],
   "source": [
    "X_all = df.drop(\n",
    "    columns=[c for c in df.columns if c.startswith(\"ic50_\") or c.startswith(\"pIC50_\")]\n",
    ").select_dtypes(include=[np.number])"
   ]
  },
  {
   "cell_type": "code",
   "execution_count": 6,
   "id": "fde4f71e",
   "metadata": {},
   "outputs": [],
   "source": [
    "os.makedirs('../models', exist_ok=True)"
   ]
  },
  {
   "cell_type": "code",
   "execution_count": 13,
   "id": "3c2171ac",
   "metadata": {},
   "outputs": [
    {
     "name": "stdout",
     "output_type": "stream",
     "text": [
      "\n",
      "Target bace1: 7459 points\n"
     ]
    },
    {
     "name": "stdout",
     "output_type": "stream",
     "text": [
      "bace1: R2 = 0.633, RMSE = 0.860\n",
      "Saved model to ../models/rf_bace1.joblib\n",
      "\n",
      "Target gsk3b: 1857 points\n",
      "gsk3b: R2 = 0.561, RMSE = 0.878\n",
      "Saved model to ../models/rf_gsk3b.joblib\n",
      "\n",
      "Target ache: 250 points\n",
      "ache: R2 = 0.639, RMSE = 0.915\n",
      "Saved model to ../models/rf_ache.joblib\n"
     ]
    }
   ],
   "source": [
    "results = []\n",
    "for target in ['bace1', 'gsk3b', 'ache']:\n",
    "    y_col = f'pIC50_{target}'\n",
    "    mask = df[y_col].notna()\n",
    "    n_points = mask.sum()\n",
    "    print(f\"\\nTarget {target}: {n_points} points\")\n",
    "    if n_points < 100:\n",
    "        print(f\"Пропускаем {target}: слишком мало данных (<100).\")\n",
    "        continue\n",
    "\n",
    "    X = X_all.loc[mask]\n",
    "    y = df.loc[mask, y_col]\n",
    "\n",
    "    X_train, X_test, y_train, y_test = train_test_split(\n",
    "        X, y, test_size=0.2, random_state=42\n",
    "    )\n",
    "\n",
    "    model = RandomForestRegressor(\n",
    "        n_estimators=200, max_depth=10, random_state=42, n_jobs=-1\n",
    "    )\n",
    "    model.fit(X_train, y_train)\n",
    "\n",
    "    preds = model.predict(X_test)\n",
    "    r2 = r2_score(y_test, preds)\n",
    "    rmse = np.sqrt(mean_squared_error(y_test, preds))\n",
    "    print(f\"{target}: R2 = {r2:.3f}, RMSE = {rmse:.3f}\")\n",
    "\n",
    "    model_path = f\"../models/rf_{target}.joblib\"\n",
    "    joblib.dump(model, model_path)\n",
    "    print(\"Saved model to\", model_path)\n",
    "\n",
    "    results.append({\n",
    "        'target': target,\n",
    "        'n_points': n_points,\n",
    "        'r2': r2,\n",
    "        'rmse': rmse\n",
    "    })"
   ]
  },
  {
   "cell_type": "code",
   "execution_count": 14,
   "id": "b7d003f7",
   "metadata": {},
   "outputs": [
    {
     "data": {
      "text/html": [
       "<div>\n",
       "<style scoped>\n",
       "    .dataframe tbody tr th:only-of-type {\n",
       "        vertical-align: middle;\n",
       "    }\n",
       "\n",
       "    .dataframe tbody tr th {\n",
       "        vertical-align: top;\n",
       "    }\n",
       "\n",
       "    .dataframe thead th {\n",
       "        text-align: right;\n",
       "    }\n",
       "</style>\n",
       "<table border=\"1\" class=\"dataframe\">\n",
       "  <thead>\n",
       "    <tr style=\"text-align: right;\">\n",
       "      <th></th>\n",
       "      <th>target</th>\n",
       "      <th>n_points</th>\n",
       "      <th>r2</th>\n",
       "      <th>rmse</th>\n",
       "    </tr>\n",
       "  </thead>\n",
       "  <tbody>\n",
       "    <tr>\n",
       "      <th>0</th>\n",
       "      <td>bace1</td>\n",
       "      <td>7459</td>\n",
       "      <td>0.632899</td>\n",
       "      <td>0.859646</td>\n",
       "    </tr>\n",
       "    <tr>\n",
       "      <th>1</th>\n",
       "      <td>gsk3b</td>\n",
       "      <td>1857</td>\n",
       "      <td>0.560606</td>\n",
       "      <td>0.878390</td>\n",
       "    </tr>\n",
       "    <tr>\n",
       "      <th>2</th>\n",
       "      <td>ache</td>\n",
       "      <td>250</td>\n",
       "      <td>0.639250</td>\n",
       "      <td>0.914783</td>\n",
       "    </tr>\n",
       "  </tbody>\n",
       "</table>\n",
       "</div>"
      ],
      "text/plain": [
       "  target  n_points        r2      rmse\n",
       "0  bace1      7459  0.632899  0.859646\n",
       "1  gsk3b      1857  0.560606  0.878390\n",
       "2   ache       250  0.639250  0.914783"
      ]
     },
     "metadata": {},
     "output_type": "display_data"
    }
   ],
   "source": [
    "results_df = pd.DataFrame(results)\n",
    "display(results_df)"
   ]
  },
  {
   "cell_type": "code",
   "execution_count": 15,
   "id": "7dc2eda7",
   "metadata": {},
   "outputs": [
    {
     "data": {
      "image/png": "[encoded data removed]",
      "text/plain": [
       "<Figure size 600x400 with 1 Axes>"
      ]
     },
     "metadata": {},
     "output_type": "display_data"
    }
   ],
   "source": [
    "if 'bace1' in results_df.target.values:\n",
    "    rf_bace1 = joblib.load('../models/rf_bace1.joblib')\n",
    "    importances = rf_bace1.feature_importances_\n",
    "    idx = np.argsort(importances)[-20:]  # топ-20\n",
    "    plt.figure(figsize=(6,4))\n",
    "    plt.barh(range(len(idx)), importances[idx])\n",
    "    plt.yticks(range(len(idx)), [X_all.columns[i] for i in idx])\n",
    "    plt.title('Top-20 feature importances (BACE1)')\n",
    "    plt.tight_layout()\n",
    "    plt.show()"
   ]
  }
 ],
 "metadata": {
  "kernelspec": {
   "display_name": "Python 3",
   "language": "python",
   "name": "python3"
  },
  "language_info": {
   "codemirror_mode": {
    "name": "ipython",
    "version": 3
   },
   "file_extension": ".py",
   "mimetype": "text/x-python",
   "name": "python",
   "nbconvert_exporter": "python",
   "pygments_lexer": "ipython3",
   "version": "3.10.12"
  }
 },
 "nbformat": 4,
 "nbformat_minor": 5
}
