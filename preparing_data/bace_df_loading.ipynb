{
  "cells": [
    {
      "cell_type": "markdown",
      "id": "omDkMiAsFovX",
      "metadata": {
        "id": "omDkMiAsFovX"
      },
      "source": [
        "# Загрузка датасета"
      ]
    },
    {
      "cell_type": "code",
      "execution_count": 1,
      "id": "Ljqyp1zxzAwl",
      "metadata": {
        "id": "Ljqyp1zxzAwl"
      },
      "outputs": [],
      "source": [
        "%%capture\n",
        "\n",
        "%pip install rdkit\n",
        "%pip install chembl_webresource_client"
      ]
    },
    {
      "cell_type": "code",
      "execution_count": 3,
      "id": "0bf051b4",
      "metadata": {
        "id": "0bf051b4"
      },
      "outputs": [],
      "source": [
        "# импорт библиотек\n",
        "import pandas as pd\n",
        "from rdkit import Chem\n",
        "from chembl_webresource_client.new_client import new_client\n",
        "\n",
        "import numpy as np"
      ]
    },
    {
      "cell_type": "code",
      "execution_count": 5,
      "id": "070e63e9",
      "metadata": {
        "colab": {
          "base_uri": "https://localhost:8080/"
        },
        "id": "070e63e9",
        "outputId": "fb8c04f8-76bb-47d5-fb74-632f67e821c2"
      },
      "outputs": [
        {
          "name": "stdout",
          "output_type": "stream",
          "text": [
            "Загружено записей: 10766\n"
          ]
        }
      ],
      "source": [
        "# подгузка датасета\n",
        "activity = new_client.activity\n",
        "\n",
        "target_chembl_id = 'CHEMBL4822'\n",
        "\n",
        "data = activity.filter(target_chembl_id=target_chembl_id).filter(standard_type__in=['IC50', 'pIC50'])\n",
        "\n",
        "df = pd.DataFrame.from_records(data)\n",
        "\n",
        "print(f'Загружено записей: {len(df)}')\n",
        "\n"
      ]
    },
    {
      "cell_type": "code",
      "execution_count": 6,
      "id": "wc0qPtu3CWJg",
      "metadata": {
        "id": "wc0qPtu3CWJg"
      },
      "outputs": [],
      "source": [
        "df.to_csv('bace_raw_data.csv', index=False)\n"
      ]
    },
    {
      "cell_type": "markdown",
      "id": "N6w7a2iRFv4q",
      "metadata": {
        "id": "N6w7a2iRFv4q"
      },
      "source": [
        "# Предобработка"
      ]
    },
    {
      "cell_type": "code",
      "execution_count": 7,
      "id": "1TBTiVtBDBKA",
      "metadata": {
        "colab": {
          "base_uri": "https://localhost:8080/",
          "height": 394
        },
        "id": "1TBTiVtBDBKA",
        "outputId": "feb5f6d9-a671-4f11-febc-e1dd0b95bd97"
      },
      "outputs": [
        {
          "data": {
            "text/html": [
              "<div>\n",
              "<style scoped>\n",
              "    .dataframe tbody tr th:only-of-type {\n",
              "        vertical-align: middle;\n",
              "    }\n",
              "\n",
              "    .dataframe tbody tr th {\n",
              "        vertical-align: top;\n",
              "    }\n",
              "\n",
              "    .dataframe thead th {\n",
              "        text-align: right;\n",
              "    }\n",
              "</style>\n",
              "<table border=\"1\" class=\"dataframe\">\n",
              "  <thead>\n",
              "    <tr style=\"text-align: right;\">\n",
              "      <th></th>\n",
              "      <th>action_type</th>\n",
              "      <th>activity_comment</th>\n",
              "      <th>activity_id</th>\n",
              "      <th>activity_properties</th>\n",
              "      <th>assay_chembl_id</th>\n",
              "      <th>assay_description</th>\n",
              "      <th>assay_type</th>\n",
              "      <th>assay_variant_accession</th>\n",
              "      <th>assay_variant_mutation</th>\n",
              "      <th>bao_endpoint</th>\n",
              "      <th>...</th>\n",
              "      <th>target_organism</th>\n",
              "      <th>target_pref_name</th>\n",
              "      <th>target_tax_id</th>\n",
              "      <th>text_value</th>\n",
              "      <th>toid</th>\n",
              "      <th>type</th>\n",
              "      <th>units</th>\n",
              "      <th>uo_units</th>\n",
              "      <th>upper_value</th>\n",
              "      <th>value</th>\n",
              "    </tr>\n",
              "  </thead>\n",
              "  <tbody>\n",
              "    <tr>\n",
              "      <th>0</th>\n",
              "      <td>NaN</td>\n",
              "      <td>NaN</td>\n",
              "      <td>78857</td>\n",
              "      <td>[]</td>\n",
              "      <td>CHEMBL653511</td>\n",
              "      <td>Inhibitory activity against Beta-secretase 1 w...</td>\n",
              "      <td>B</td>\n",
              "      <td>NaN</td>\n",
              "      <td>NaN</td>\n",
              "      <td>BAO_0000190</td>\n",
              "      <td>...</td>\n",
              "      <td>Homo sapiens</td>\n",
              "      <td>Beta-secretase 1</td>\n",
              "      <td>9606</td>\n",
              "      <td>NaN</td>\n",
              "      <td>NaN</td>\n",
              "      <td>IC50</td>\n",
              "      <td>nM</td>\n",
              "      <td>UO_0000065</td>\n",
              "      <td>NaN</td>\n",
              "      <td>413.000</td>\n",
              "    </tr>\n",
              "    <tr>\n",
              "      <th>1</th>\n",
              "      <td>NaN</td>\n",
              "      <td>NaN</td>\n",
              "      <td>78857</td>\n",
              "      <td>[]</td>\n",
              "      <td>CHEMBL653511</td>\n",
              "      <td>Inhibitory activity against Beta-secretase 1 w...</td>\n",
              "      <td>B</td>\n",
              "      <td>NaN</td>\n",
              "      <td>NaN</td>\n",
              "      <td>BAO_0000190</td>\n",
              "      <td>...</td>\n",
              "      <td>Homo sapiens</td>\n",
              "      <td>Beta-secretase 1</td>\n",
              "      <td>9606</td>\n",
              "      <td>NaN</td>\n",
              "      <td>NaN</td>\n",
              "      <td>IC50</td>\n",
              "      <td>nM</td>\n",
              "      <td>UO_0000065</td>\n",
              "      <td>NaN</td>\n",
              "      <td>413.000</td>\n",
              "    </tr>\n",
              "    <tr>\n",
              "      <th>2</th>\n",
              "      <td>NaN</td>\n",
              "      <td>NaN</td>\n",
              "      <td>391560</td>\n",
              "      <td>[]</td>\n",
              "      <td>CHEMBL653332</td>\n",
              "      <td>Compound was tested for its inhibitory activit...</td>\n",
              "      <td>B</td>\n",
              "      <td>NaN</td>\n",
              "      <td>NaN</td>\n",
              "      <td>BAO_0000190</td>\n",
              "      <td>...</td>\n",
              "      <td>Homo sapiens</td>\n",
              "      <td>Beta-secretase 1</td>\n",
              "      <td>9606</td>\n",
              "      <td>NaN</td>\n",
              "      <td>NaN</td>\n",
              "      <td>IC50</td>\n",
              "      <td>uM</td>\n",
              "      <td>UO_0000065</td>\n",
              "      <td>NaN</td>\n",
              "      <td>0.002</td>\n",
              "    </tr>\n",
              "    <tr>\n",
              "      <th>3</th>\n",
              "      <td>NaN</td>\n",
              "      <td>NaN</td>\n",
              "      <td>391983</td>\n",
              "      <td>[]</td>\n",
              "      <td>CHEMBL653512</td>\n",
              "      <td>Inhibition of human Beta-secretase 1</td>\n",
              "      <td>B</td>\n",
              "      <td>NaN</td>\n",
              "      <td>NaN</td>\n",
              "      <td>BAO_0000190</td>\n",
              "      <td>...</td>\n",
              "      <td>Homo sapiens</td>\n",
              "      <td>Beta-secretase 1</td>\n",
              "      <td>9606</td>\n",
              "      <td>NaN</td>\n",
              "      <td>NaN</td>\n",
              "      <td>IC50</td>\n",
              "      <td>uM</td>\n",
              "      <td>UO_0000065</td>\n",
              "      <td>NaN</td>\n",
              "      <td>0.460</td>\n",
              "    </tr>\n",
              "    <tr>\n",
              "      <th>4</th>\n",
              "      <td>NaN</td>\n",
              "      <td>NaN</td>\n",
              "      <td>395858</td>\n",
              "      <td>[]</td>\n",
              "      <td>CHEMBL653512</td>\n",
              "      <td>Inhibition of human Beta-secretase 1</td>\n",
              "      <td>B</td>\n",
              "      <td>NaN</td>\n",
              "      <td>NaN</td>\n",
              "      <td>BAO_0000190</td>\n",
              "      <td>...</td>\n",
              "      <td>Homo sapiens</td>\n",
              "      <td>Beta-secretase 1</td>\n",
              "      <td>9606</td>\n",
              "      <td>NaN</td>\n",
              "      <td>NaN</td>\n",
              "      <td>IC50</td>\n",
              "      <td>uM</td>\n",
              "      <td>UO_0000065</td>\n",
              "      <td>NaN</td>\n",
              "      <td>9.000</td>\n",
              "    </tr>\n",
              "  </tbody>\n",
              "</table>\n",
              "<p>5 rows × 46 columns</p>\n",
              "</div>"
            ],
            "text/plain": [
              "  action_type activity_comment  activity_id activity_properties  \\\n",
              "0         NaN              NaN        78857                  []   \n",
              "1         NaN              NaN        78857                  []   \n",
              "2         NaN              NaN       391560                  []   \n",
              "3         NaN              NaN       391983                  []   \n",
              "4         NaN              NaN       395858                  []   \n",
              "\n",
              "  assay_chembl_id                                  assay_description  \\\n",
              "0    CHEMBL653511  Inhibitory activity against Beta-secretase 1 w...   \n",
              "1    CHEMBL653511  Inhibitory activity against Beta-secretase 1 w...   \n",
              "2    CHEMBL653332  Compound was tested for its inhibitory activit...   \n",
              "3    CHEMBL653512               Inhibition of human Beta-secretase 1   \n",
              "4    CHEMBL653512               Inhibition of human Beta-secretase 1   \n",
              "\n",
              "  assay_type  assay_variant_accession  assay_variant_mutation bao_endpoint  \\\n",
              "0          B                      NaN                     NaN  BAO_0000190   \n",
              "1          B                      NaN                     NaN  BAO_0000190   \n",
              "2          B                      NaN                     NaN  BAO_0000190   \n",
              "3          B                      NaN                     NaN  BAO_0000190   \n",
              "4          B                      NaN                     NaN  BAO_0000190   \n",
              "\n",
              "   ... target_organism  target_pref_name target_tax_id text_value toid  type  \\\n",
              "0  ...    Homo sapiens  Beta-secretase 1          9606        NaN  NaN  IC50   \n",
              "1  ...    Homo sapiens  Beta-secretase 1          9606        NaN  NaN  IC50   \n",
              "2  ...    Homo sapiens  Beta-secretase 1          9606        NaN  NaN  IC50   \n",
              "3  ...    Homo sapiens  Beta-secretase 1          9606        NaN  NaN  IC50   \n",
              "4  ...    Homo sapiens  Beta-secretase 1          9606        NaN  NaN  IC50   \n",
              "\n",
              "  units    uo_units upper_value    value  \n",
              "0    nM  UO_0000065         NaN  413.000  \n",
              "1    nM  UO_0000065         NaN  413.000  \n",
              "2    uM  UO_0000065         NaN    0.002  \n",
              "3    uM  UO_0000065         NaN    0.460  \n",
              "4    uM  UO_0000065         NaN    9.000  \n",
              "\n",
              "[5 rows x 46 columns]"
            ]
          },
          "execution_count": 7,
          "metadata": {},
          "output_type": "execute_result"
        }
      ],
      "source": [
        "df = pd.read_csv('bace_raw_data.csv')\n",
        "df.head()"
      ]
    },
    {
      "cell_type": "code",
      "execution_count": 8,
      "id": "4e69fcf2",
      "metadata": {
        "colab": {
          "base_uri": "https://localhost:8080/"
        },
        "id": "4e69fcf2",
        "outputId": "77d88275-8377-4583-8cf0-9921187a5c82"
      },
      "outputs": [
        {
          "data": {
            "text/plain": [
              "Index(['action_type', 'activity_comment', 'activity_id', 'activity_properties',\n",
              "       'assay_chembl_id', 'assay_description', 'assay_type',\n",
              "       'assay_variant_accession', 'assay_variant_mutation', 'bao_endpoint',\n",
              "       'bao_format', 'bao_label', 'canonical_smiles', 'data_validity_comment',\n",
              "       'data_validity_description', 'document_chembl_id', 'document_journal',\n",
              "       'document_year', 'ligand_efficiency', 'molecule_chembl_id',\n",
              "       'molecule_pref_name', 'parent_molecule_chembl_id', 'pchembl_value',\n",
              "       'potential_duplicate', 'qudt_units', 'record_id', 'relation', 'src_id',\n",
              "       'standard_flag', 'standard_relation', 'standard_text_value',\n",
              "       'standard_type', 'standard_units', 'standard_upper_value',\n",
              "       'standard_value', 'target_chembl_id', 'target_organism',\n",
              "       'target_pref_name', 'target_tax_id', 'text_value', 'toid', 'type',\n",
              "       'units', 'uo_units', 'upper_value', 'value'],\n",
              "      dtype='object')"
            ]
          },
          "execution_count": 8,
          "metadata": {},
          "output_type": "execute_result"
        }
      ],
      "source": [
        "df.columns"
      ]
    },
    {
      "cell_type": "code",
      "execution_count": 9,
      "id": "9907acfb",
      "metadata": {
        "colab": {
          "base_uri": "https://localhost:8080/",
          "height": 423
        },
        "id": "9907acfb",
        "outputId": "8dfd8b1c-4169-4c32-c9d2-962d9ccddc20"
      },
      "outputs": [
        {
          "data": {
            "text/html": [
              "<div>\n",
              "<style scoped>\n",
              "    .dataframe tbody tr th:only-of-type {\n",
              "        vertical-align: middle;\n",
              "    }\n",
              "\n",
              "    .dataframe tbody tr th {\n",
              "        vertical-align: top;\n",
              "    }\n",
              "\n",
              "    .dataframe thead th {\n",
              "        text-align: right;\n",
              "    }\n",
              "</style>\n",
              "<table border=\"1\" class=\"dataframe\">\n",
              "  <thead>\n",
              "    <tr style=\"text-align: right;\">\n",
              "      <th></th>\n",
              "      <th>canonical_smiles</th>\n",
              "      <th>standard_value</th>\n",
              "      <th>standard_units</th>\n",
              "      <th>standard_type</th>\n",
              "      <th>standard_relation</th>\n",
              "    </tr>\n",
              "  </thead>\n",
              "  <tbody>\n",
              "    <tr>\n",
              "      <th>0</th>\n",
              "      <td>CC(C)C[C@H](NC(=O)[C@@H](NC(=O)[C@@H](N)CCC(=O...</td>\n",
              "      <td>413.0</td>\n",
              "      <td>nM</td>\n",
              "      <td>IC50</td>\n",
              "      <td>=</td>\n",
              "    </tr>\n",
              "    <tr>\n",
              "      <th>1</th>\n",
              "      <td>CC(C)C[C@H](NC(=O)[C@@H](NC(=O)[C@@H](N)CCC(=O...</td>\n",
              "      <td>413.0</td>\n",
              "      <td>nM</td>\n",
              "      <td>IC50</td>\n",
              "      <td>=</td>\n",
              "    </tr>\n",
              "    <tr>\n",
              "      <th>2</th>\n",
              "      <td>CC(C)C[C@H](NC(=O)[C@H](CC(N)=O)NC(=O)[C@@H](N...</td>\n",
              "      <td>2.0</td>\n",
              "      <td>nM</td>\n",
              "      <td>IC50</td>\n",
              "      <td>=</td>\n",
              "    </tr>\n",
              "    <tr>\n",
              "      <th>3</th>\n",
              "      <td>CCC(C)C[C@H](NC(=O)[C@H](CC(C)C)NC(C)=O)[C@@H]...</td>\n",
              "      <td>460.0</td>\n",
              "      <td>nM</td>\n",
              "      <td>IC50</td>\n",
              "      <td>=</td>\n",
              "    </tr>\n",
              "    <tr>\n",
              "      <th>4</th>\n",
              "      <td>CC(=O)NCC(=O)N[C@@H](Cc1ccccc1)[C@@H](O)CC(=O)...</td>\n",
              "      <td>9000.0</td>\n",
              "      <td>nM</td>\n",
              "      <td>IC50</td>\n",
              "      <td>=</td>\n",
              "    </tr>\n",
              "    <tr>\n",
              "      <th>...</th>\n",
              "      <td>...</td>\n",
              "      <td>...</td>\n",
              "      <td>...</td>\n",
              "      <td>...</td>\n",
              "      <td>...</td>\n",
              "    </tr>\n",
              "    <tr>\n",
              "      <th>10761</th>\n",
              "      <td>CCCN1CCCCCOc2cccc(c2)C[C@@H]([C@H](O)CNC(C)(C)...</td>\n",
              "      <td>6000.0</td>\n",
              "      <td>nM</td>\n",
              "      <td>IC50</td>\n",
              "      <td>=</td>\n",
              "    </tr>\n",
              "    <tr>\n",
              "      <th>10762</th>\n",
              "      <td>CCCN1CCOc2cccc(c2)C[C@@H]([C@H](O)CNC(C)(C)c2c...</td>\n",
              "      <td>1850.0</td>\n",
              "      <td>nM</td>\n",
              "      <td>IC50</td>\n",
              "      <td>=</td>\n",
              "    </tr>\n",
              "    <tr>\n",
              "      <th>10763</th>\n",
              "      <td>CCCN1CCOCCc2cccc(c2)C[C@@H]([C@H](O)CNC(C)(C)c...</td>\n",
              "      <td>22700.0</td>\n",
              "      <td>nM</td>\n",
              "      <td>IC50</td>\n",
              "      <td>=</td>\n",
              "    </tr>\n",
              "    <tr>\n",
              "      <th>10764</th>\n",
              "      <td>CCCN1CCCCc2cccc(c2)C[C@@H]([C@H](O)CNC(C)(C)c2...</td>\n",
              "      <td>3020.0</td>\n",
              "      <td>nM</td>\n",
              "      <td>IC50</td>\n",
              "      <td>=</td>\n",
              "    </tr>\n",
              "    <tr>\n",
              "      <th>10765</th>\n",
              "      <td>CCCN1CCCCCc2cccc(c2)C[C@@H]([C@H](O)CNC(C)(C)c...</td>\n",
              "      <td>2030.0</td>\n",
              "      <td>nM</td>\n",
              "      <td>IC50</td>\n",
              "      <td>=</td>\n",
              "    </tr>\n",
              "  </tbody>\n",
              "</table>\n",
              "<p>10766 rows × 5 columns</p>\n",
              "</div>"
            ],
            "text/plain": [
              "                                        canonical_smiles  standard_value  \\\n",
              "0      CC(C)C[C@H](NC(=O)[C@@H](NC(=O)[C@@H](N)CCC(=O...           413.0   \n",
              "1      CC(C)C[C@H](NC(=O)[C@@H](NC(=O)[C@@H](N)CCC(=O...           413.0   \n",
              "2      CC(C)C[C@H](NC(=O)[C@H](CC(N)=O)NC(=O)[C@@H](N...             2.0   \n",
              "3      CCC(C)C[C@H](NC(=O)[C@H](CC(C)C)NC(C)=O)[C@@H]...           460.0   \n",
              "4      CC(=O)NCC(=O)N[C@@H](Cc1ccccc1)[C@@H](O)CC(=O)...          9000.0   \n",
              "...                                                  ...             ...   \n",
              "10761  CCCN1CCCCCOc2cccc(c2)C[C@@H]([C@H](O)CNC(C)(C)...          6000.0   \n",
              "10762  CCCN1CCOc2cccc(c2)C[C@@H]([C@H](O)CNC(C)(C)c2c...          1850.0   \n",
              "10763  CCCN1CCOCCc2cccc(c2)C[C@@H]([C@H](O)CNC(C)(C)c...         22700.0   \n",
              "10764  CCCN1CCCCc2cccc(c2)C[C@@H]([C@H](O)CNC(C)(C)c2...          3020.0   \n",
              "10765  CCCN1CCCCCc2cccc(c2)C[C@@H]([C@H](O)CNC(C)(C)c...          2030.0   \n",
              "\n",
              "      standard_units standard_type standard_relation  \n",
              "0                 nM          IC50                 =  \n",
              "1                 nM          IC50                 =  \n",
              "2                 nM          IC50                 =  \n",
              "3                 nM          IC50                 =  \n",
              "4                 nM          IC50                 =  \n",
              "...              ...           ...               ...  \n",
              "10761             nM          IC50                 =  \n",
              "10762             nM          IC50                 =  \n",
              "10763             nM          IC50                 =  \n",
              "10764             nM          IC50                 =  \n",
              "10765             nM          IC50                 =  \n",
              "\n",
              "[10766 rows x 5 columns]"
            ]
          },
          "execution_count": 9,
          "metadata": {},
          "output_type": "execute_result"
        }
      ],
      "source": [
        "#берем лишь нужные колонки\n",
        "\n",
        "columns_to_keep = ['canonical_smiles', 'standard_value', 'standard_units', 'standard_type', 'standard_relation']\n",
        "\n",
        "df = df[columns_to_keep]\n",
        "df"
      ]
    },
    {
      "cell_type": "code",
      "execution_count": 10,
      "id": "LoetBWug7GBk",
      "metadata": {
        "colab": {
          "base_uri": "https://localhost:8080/",
          "height": 178
        },
        "id": "LoetBWug7GBk",
        "outputId": "0ad11f49-9237-4139-c9ca-90bf06f6719b"
      },
      "outputs": [
        {
          "data": {
            "text/plain": [
              "standard_units\n",
              "nM         10609\n",
              "ug.mL-1        2\n",
              "Name: count, dtype: int64"
            ]
          },
          "execution_count": 10,
          "metadata": {},
          "output_type": "execute_result"
        }
      ],
      "source": [
        "df['standard_units'].unique() #кажется, можно оставить только nM\n",
        "df['standard_units'].value_counts()\n"
      ]
    },
    {
      "cell_type": "code",
      "execution_count": 11,
      "id": "CqIEQWcGDxBQ",
      "metadata": {
        "id": "CqIEQWcGDxBQ"
      },
      "outputs": [],
      "source": [
        "#кажется, в нашем случае можно сделать даже так\n",
        "\n",
        "# Фильтруем только строки с IC50 в наномолярных единицах\n",
        "df = df[\n",
        "    (df['standard_type'] == 'IC50') &\n",
        "    (df['standard_units'] == 'nM') &\n",
        "    (df['standard_relation'] == '=')\n",
        "]"
      ]
    },
    {
      "cell_type": "code",
      "execution_count": 12,
      "id": "LcMxwUnuEZB2",
      "metadata": {
        "id": "LcMxwUnuEZB2"
      },
      "outputs": [],
      "source": [
        "# Убираем строки с нулями или отрицательными значениями\n",
        "df = df[df['standard_value'] > 0]\n",
        "\n",
        "# Переводим IC50 в pIC50 (–log10(IC50 [M]))\n",
        "df['pIC50'] = -np.log10(df['standard_value'] * 1e-9)"
      ]
    },
    {
      "cell_type": "code",
      "execution_count": 13,
      "id": "euJtlCToF9vd",
      "metadata": {
        "colab": {
          "base_uri": "https://localhost:8080/",
          "height": 206
        },
        "id": "euJtlCToF9vd",
        "outputId": "1f6e5b9f-1096-4c4b-c6c5-dfa211bf7d41"
      },
      "outputs": [
        {
          "data": {
            "text/html": [
              "<div>\n",
              "<style scoped>\n",
              "    .dataframe tbody tr th:only-of-type {\n",
              "        vertical-align: middle;\n",
              "    }\n",
              "\n",
              "    .dataframe tbody tr th {\n",
              "        vertical-align: top;\n",
              "    }\n",
              "\n",
              "    .dataframe thead th {\n",
              "        text-align: right;\n",
              "    }\n",
              "</style>\n",
              "<table border=\"1\" class=\"dataframe\">\n",
              "  <thead>\n",
              "    <tr style=\"text-align: right;\">\n",
              "      <th></th>\n",
              "      <th>canonical_smiles</th>\n",
              "      <th>standard_value</th>\n",
              "      <th>standard_units</th>\n",
              "      <th>standard_type</th>\n",
              "      <th>standard_relation</th>\n",
              "      <th>pIC50</th>\n",
              "    </tr>\n",
              "  </thead>\n",
              "  <tbody>\n",
              "    <tr>\n",
              "      <th>0</th>\n",
              "      <td>CC(C)C[C@H](NC(=O)[C@@H](NC(=O)[C@@H](N)CCC(=O...</td>\n",
              "      <td>413.0</td>\n",
              "      <td>nM</td>\n",
              "      <td>IC50</td>\n",
              "      <td>=</td>\n",
              "      <td>6.384050</td>\n",
              "    </tr>\n",
              "    <tr>\n",
              "      <th>2</th>\n",
              "      <td>CC(C)C[C@H](NC(=O)[C@H](CC(N)=O)NC(=O)[C@@H](N...</td>\n",
              "      <td>2.0</td>\n",
              "      <td>nM</td>\n",
              "      <td>IC50</td>\n",
              "      <td>=</td>\n",
              "      <td>8.698970</td>\n",
              "    </tr>\n",
              "    <tr>\n",
              "      <th>3</th>\n",
              "      <td>CCC(C)C[C@H](NC(=O)[C@H](CC(C)C)NC(C)=O)[C@@H]...</td>\n",
              "      <td>460.0</td>\n",
              "      <td>nM</td>\n",
              "      <td>IC50</td>\n",
              "      <td>=</td>\n",
              "      <td>6.337242</td>\n",
              "    </tr>\n",
              "    <tr>\n",
              "      <th>4</th>\n",
              "      <td>CC(=O)NCC(=O)N[C@@H](Cc1ccccc1)[C@@H](O)CC(=O)...</td>\n",
              "      <td>9000.0</td>\n",
              "      <td>nM</td>\n",
              "      <td>IC50</td>\n",
              "      <td>=</td>\n",
              "      <td>5.045757</td>\n",
              "    </tr>\n",
              "    <tr>\n",
              "      <th>5</th>\n",
              "      <td>CC(=O)N[C@@H](Cc1ccccc1)C(=O)N[C@@H](Cc1ccccc1...</td>\n",
              "      <td>5600.0</td>\n",
              "      <td>nM</td>\n",
              "      <td>IC50</td>\n",
              "      <td>=</td>\n",
              "      <td>5.251812</td>\n",
              "    </tr>\n",
              "  </tbody>\n",
              "</table>\n",
              "</div>"
            ],
            "text/plain": [
              "                                    canonical_smiles  standard_value  \\\n",
              "0  CC(C)C[C@H](NC(=O)[C@@H](NC(=O)[C@@H](N)CCC(=O...           413.0   \n",
              "2  CC(C)C[C@H](NC(=O)[C@H](CC(N)=O)NC(=O)[C@@H](N...             2.0   \n",
              "3  CCC(C)C[C@H](NC(=O)[C@H](CC(C)C)NC(C)=O)[C@@H]...           460.0   \n",
              "4  CC(=O)NCC(=O)N[C@@H](Cc1ccccc1)[C@@H](O)CC(=O)...          9000.0   \n",
              "5  CC(=O)N[C@@H](Cc1ccccc1)C(=O)N[C@@H](Cc1ccccc1...          5600.0   \n",
              "\n",
              "  standard_units standard_type standard_relation     pIC50  \n",
              "0             nM          IC50                 =  6.384050  \n",
              "2             nM          IC50                 =  8.698970  \n",
              "3             nM          IC50                 =  6.337242  \n",
              "4             nM          IC50                 =  5.045757  \n",
              "5             nM          IC50                 =  5.251812  "
            ]
          },
          "execution_count": 13,
          "metadata": {},
          "output_type": "execute_result"
        }
      ],
      "source": [
        "#удаляем пустые значения и дупликаты\n",
        "\n",
        "df = df.dropna(subset=['canonical_smiles'])\n",
        "df = df.drop_duplicates(subset='canonical_smiles')\n",
        "df = df[df['standard_value'].notna()]\n",
        "df.head()"
      ]
    },
    {
      "cell_type": "code",
      "execution_count": 14,
      "id": "WtyRQOJBGDHC",
      "metadata": {
        "colab": {
          "base_uri": "https://localhost:8080/"
        },
        "id": "WtyRQOJBGDHC",
        "outputId": "cfbde346-774c-4769-9e5b-abe8069bd307"
      },
      "outputs": [
        {
          "data": {
            "text/plain": [
              "(6945, 6)"
            ]
          },
          "execution_count": 14,
          "metadata": {},
          "output_type": "execute_result"
        }
      ],
      "source": [
        "df.shape"
      ]
    },
    {
      "cell_type": "code",
      "execution_count": 15,
      "id": "vdARRrYXEcxE",
      "metadata": {
        "id": "vdARRrYXEcxE"
      },
      "outputs": [],
      "source": [
        "# Оставляем только нужные колонки\n",
        "df_final = df[['canonical_smiles', 'pIC50']].rename(columns={'canonical_smiles': 'smiles'})\n",
        "\n"
      ]
    },
    {
      "cell_type": "code",
      "execution_count": 16,
      "id": "INqyc-kYFQh7",
      "metadata": {
        "colab": {
          "base_uri": "https://localhost:8080/"
        },
        "id": "INqyc-kYFQh7",
        "outputId": "9a49f834-62a6-4235-89d4-eb285703385d"
      },
      "outputs": [
        {
          "data": {
            "text/plain": [
              "(6945, 2)"
            ]
          },
          "execution_count": 16,
          "metadata": {},
          "output_type": "execute_result"
        }
      ],
      "source": [
        "df_final.shape #до проверки на валидность"
      ]
    },
    {
      "cell_type": "code",
      "execution_count": 17,
      "id": "_FqmI4kZFKKl",
      "metadata": {
        "colab": {
          "base_uri": "https://localhost:8080/"
        },
        "id": "_FqmI4kZFKKl",
        "outputId": "35a464c3-3b65-4b72-d2bd-8f4a569c1d16"
      },
      "outputs": [
        {
          "name": "stdout",
          "output_type": "stream",
          "text": [
            "После проверки валидности SMILES: (6945, 2)\n"
          ]
        }
      ],
      "source": [
        "# проверка корректности SMILES\n",
        "def is_valid_smiles(smiles):\n",
        "    mol = Chem.MolFromSmiles(smiles)\n",
        "    return mol is not None\n",
        "\n",
        "df_final = df_final[df_final['smiles'].apply(is_valid_smiles)]\n",
        "print(\"После проверки валидности SMILES:\", df_final.shape)"
      ]
    },
    {
      "cell_type": "code",
      "execution_count": 18,
      "id": "424223f4",
      "metadata": {
        "id": "424223f4"
      },
      "outputs": [],
      "source": [
        "# все SMILES в датасете валидны, поэтому сохраняем очищенный датасет в новый файл\n",
        "df_final.to_csv('bace_clean_data.csv', index=False)\n"
      ]
    }
  ],
  "metadata": {
    "colab": {
      "provenance": []
    },
    "kernelspec": {
      "display_name": "base",
      "language": "python",
      "name": "python3"
    },
    "language_info": {
      "codemirror_mode": {
        "name": "ipython",
        "version": 3
      },
      "file_extension": ".py",
      "mimetype": "text/x-python",
      "name": "python",
      "nbconvert_exporter": "python",
      "pygments_lexer": "ipython3",
      "version": "3.12.4"
    }
  },
  "nbformat": 4,
  "nbformat_minor": 5
}
